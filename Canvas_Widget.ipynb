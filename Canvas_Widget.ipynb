{
 "cells": [
  {
   "attachments": {},
   "cell_type": "markdown",
   "metadata": {},
   "source": [
    "# Canvas Widget\n",
    "Widget Canvas represents a drawing board in which lines and other geometrical objects can be drawn.\n",
    "We illustrate widget Canvas by developing a pen drawing app\n",
    "\n",
    "* the user starts the drawing of the curve by pressing the left mouse button i.e. while pressing the left mouse button, the handler draw() is called with an Event object storing the new mouse position.\n",
    "\n",
    "* the user then draws the curve by moving the mouse, while still pressing the left mouse button i.e. To continue drawing the curve, we need to connect this new mouse position to the previous one with a straight line. \n",
    "\n",
    "Below are the lines of code that syntactically define a simple canvas.\n",
    "\n",
    "from tkinter import Tk, Canvas\n",
    "\n",
    "root = Tk()\n",
    "canvas = Canvas(root, height=100, width=150)\n",
    "\n",
    "canvas.bind(\"<Button-1>\", begin)\n",
    "\n",
    "canvas.bind(\"<Button1-Motion>\", draw)\n",
    "\n",
    "canvas.pack()\n",
    "root.mainloop()\n",
    "\n",
    "\n"
   ]
  },
  {
   "cell_type": "code",
   "execution_count": 1,
   "metadata": {},
   "outputs": [],
   "source": [
    "from tkinter import Tk, Canvas\n",
    "\n",
    "def begin(event):\n",
    "    global x, y\n",
    "    x, y = event.x, event.y\n",
    "\n",
    "def draw(event):\n",
    "    global x, y, canvas\n",
    "    newx, newy = event.x, event.y\n",
    "    # connect previous mouse position to current one\n",
    "    canvas.create_line(x, y, newx, newy)\n",
    "    # new position becomes previous\n",
    "    x, y = newx, newy\n",
    "\n",
    "root = Tk()\n",
    "x, y = 0, 0 # mouse coordinates (global variables)\n",
    "canvas = Canvas(root, height=100, width=150)\n",
    "\n",
    "# bind left mouse button click event to function begin() \n",
    "canvas.bind(\"<Button-1>\", begin)\n",
    "\n",
    "# bind mouse motion while pressing left button event \n",
    "canvas.bind(\"<Button1-Motion>\", draw)\n",
    "\n",
    "canvas.pack()\n",
    "root.mainloop()\n"
   ]
  },
  {
   "attachments": {},
   "cell_type": "markdown",
   "metadata": {},
   "source": [
    "* The Above lines of code create a simple canvas that lets the user draw a line from a point x to y. x and y are declared as global variables that helps store the current and previous mouse positions. \n",
    "* The handler begin(), sets the initial values of x and y. \n",
    "* Method create_line() creates a line segment between (x, y) and (newx, newy)."
   ]
  },
  {
   "cell_type": "markdown",
   "metadata": {},
   "source": [
    "The Canvas widget provides structured graphics facilities for Tkinter. This can be used to draw graphs and plots, create graphics editors, and implement various kinds of custom widgets.\n",
    "## When to use the canvas widget?\n",
    "* can be used to display and edit graphs and other drawings.\n",
    "* to implement various kinds of custom widgets. For example, you can use a canvas as a completion bar, by drawing and updating a rectangle on the canvas."
   ]
  },
  {
   "cell_type": "code",
   "execution_count": 3,
   "metadata": {},
   "outputs": [],
   "source": [
    "from tkinter import *\n",
    "\n",
    "master = Tk()\n",
    "\n",
    "w = Canvas(master, width=200, height=100)\n",
    "w.pack()\n",
    "\n",
    "w.create_line(0, 0, 200, 100)\n",
    "w.create_line(0, 100, 200, 0, fill=\"red\", dash=(4, 4))\n",
    "\n",
    "w.create_rectangle(50, 25, 150, 75, fill=\"blue\")\n",
    "\n",
    "mainloop()"
   ]
  },
  {
   "attachments": {
    "image.png": {
     "image/png": "[encoded data removed]"
    }
   },
   "cell_type": "markdown",
   "metadata": {},
   "source": [
    "![image.png](attachment:image.png)"
   ]
  },
  {
   "cell_type": "code",
   "execution_count": null,
   "metadata": {},
   "outputs": [],
   "source": []
  }
 ],
 "metadata": {
  "kernelspec": {
   "display_name": "Python 3",
   "language": "python",
   "name": "python3"
  },
  "language_info": {
   "codemirror_mode": {
    "name": "ipython",
    "version": 3
   },
   "file_extension": ".py",
   "mimetype": "text/x-python",
   "name": "python",
   "nbconvert_exporter": "python",
   "pygments_lexer": "ipython3",
   "version": "3.6.9"
  }
 },
 "nbformat": 4,
 "nbformat_minor": 4
}
