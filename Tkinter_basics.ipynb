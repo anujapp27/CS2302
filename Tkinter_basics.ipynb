{
 "cells": [
  {
   "cell_type": "code",
   "execution_count": 5,
   "metadata": {},
   "outputs": [],
   "source": [
    "##Welcome to Graphical User Interfaces!!\n"
   ]
  },
  {
   "cell_type": "markdown",
   "metadata": {},
   "source": [
    "# Python-Tkinter Basics\n",
    "Tkinter is a powerful package that is shipped with Python as a standard package, so we don’t need to install anything to use it.\n",
    "\n",
    "\n",
    "## **Widgets:**\n",
    "* button\n",
    "* canvas\n",
    "* checkbutton\n",
    "* combobox\n",
    "* entry\n",
    "* frame\n",
    "* label\n",
    "* labelframe\n",
    "* listbox\n",
    "* menu\n",
    "* menubutton\n",
    "* message\n",
    "* notebook\n",
    "* tk_optionMenu\n",
    "* panedwindow\n",
    "* progressbar\n",
    "* radiobutton\n",
    "* scale\n",
    "* scrollbar\n",
    "* separator\n",
    "* sizegrip\n",
    "* spinbox\n",
    "* text\n",
    "* treeview\n",
    "\n",
    "## **Top-level windows:**\n",
    "* tk_chooseColorpops : up a dialog box for the user to select a color.\n",
    "* tk_chooseDirectory : pops up a dialog box for the user to select a directory.\n",
    "* tk_dialog : creates a modal dialog and waits for a response.\n",
    "* tk_getOpenFile : pops up a dialog box for the user to select a file to open.\n",
    "* tk_getSaveFile : pops up a dialog box for the user to select a file to save.\n",
    "* tk_messageBox : pops up a message window and waits for a user response.\n",
    "* tk_popup : posts a popup menu.\n",
    "* toplevel : creates and manipulates toplevel widgets.\n",
    "\n",
    "## **Geometry managers:**\n",
    "* place : which positions widgets at absolute locations\n",
    "* grid : which arranges widgets in a grid\n",
    "* pack : which packs widgets into a cavity\n"
   ]
  },
  {
   "cell_type": "code",
   "execution_count": 11,
   "metadata": {},
   "outputs": [],
   "source": [
    "# Creating fir GUI application.\n",
    "#First, we will import Tkinter package and create a window and set its title (title of the window):\n",
    "from tkinter import *\n",
    "\n"
   ]
  },
  {
   "cell_type": "code",
   "execution_count": 12,
   "metadata": {},
   "outputs": [],
   "source": [
    "root = Tk()"
   ]
  },
  {
   "cell_type": "code",
   "execution_count": 13,
   "metadata": {},
   "outputs": [
    {
     "data": {
      "text/plain": [
       "''"
      ]
     },
     "execution_count": 13,
     "metadata": {},
     "output_type": "execute_result"
    }
   ],
   "source": [
    "root.title(\"welcome to your first GUI application\")"
   ]
  },
  {
   "cell_type": "code",
   "execution_count": 14,
   "metadata": {},
   "outputs": [],
   "source": [
    "root.mainloop()\n",
    "\n",
    "## Remember, we can use anything instead of root.\n",
    "# the following list of commands will also work\n",
    "# from tkinter import *\n",
    "# window = Tk()\n",
    "# window.title(\"welcome to your first GUI application\")\n",
    "#window.mainloop()"
   ]
  },
  {
   "cell_type": "markdown",
   "metadata": {},
   "source": [
    "The last line which calls mainloop function, this function calls the endless loop of the window, so the window will wait for any user interaction till we close it.\n",
    "If we forget to call mainloop(), then nothing will appear to the user. "
   ]
  },
  {
   "cell_type": "code",
   "execution_count": null,
   "metadata": {},
   "outputs": [],
   "source": []
  }
 ],
 "metadata": {
  "kernelspec": {
   "display_name": "Python 3",
   "language": "python",
   "name": "python3"
  },
  "language_info": {
   "codemirror_mode": {
    "name": "ipython",
    "version": 3
   },
   "file_extension": ".py",
   "mimetype": "text/x-python",
   "name": "python",
   "nbconvert_exporter": "python",
   "pygments_lexer": "ipython3",
   "version": "3.6.9"
  }
 },
 "nbformat": 4,
 "nbformat_minor": 4
}
